{
  "nbformat": 4,
  "nbformat_minor": 0,
  "metadata": {
    "colab": {
      "name": "Weather guage.ipynb",
      "provenance": [],
      "collapsed_sections": []
    },
    "kernelspec": {
      "name": "python3",
      "display_name": "Python 3"
    },
    "language_info": {
      "name": "python"
    }
  },
  "cells": [
    {
      "cell_type": "markdown",
      "metadata": {
        "id": "Yz9_QJTmZ4qe"
      },
      "source": [
        "#Description of Columns\n",
        "Columns:\n",
        "\n",
        "\n",
        "1 Date-\n",
        "\n",
        "\n",
        "The date of the collection (YYYY-MM-DD)\n",
        "\n",
        "\n",
        "2 TempHighF-\n",
        "\n",
        "\n",
        "High temperature, in degrees Fahrenheit\n",
        "\n",
        "\n",
        "3 TempAvgF-\n",
        "\n",
        "\n",
        "Average temperature, in degrees Fahrenheit\n",
        "\n",
        "\n",
        "4 TempLowF-\n",
        "\n",
        "\n",
        "Low temperature, in degrees Fahrenheit\n",
        "\n",
        "\n",
        "5 DewPointHighF-\n",
        "\n",
        "\n",
        "High dew point, in degrees Fahrenheit\n",
        "\n",
        "\n",
        "6 DewPointAvgF-\n",
        "\n",
        "\n",
        "Average dew point, in degrees Fahrenheit\n",
        "\n",
        "\n",
        "7 DewPointLowF-\n",
        "\n",
        "\n",
        "Low dew point, in degrees Fahrenheit\n",
        "\n",
        "\n",
        "8 HumidityHighPercent-\n",
        "\n",
        "\n",
        "High humidity, as a percentage\n",
        "\n",
        "\n",
        "9 HumidityAvgPercent-\n",
        "\n",
        "\n",
        "Average humidity, as a percentage\n",
        "\n",
        "\n",
        "10 HumidityLowPercent-\n",
        "\n",
        "\n",
        "Low humidity, as a percentage\n",
        "\n",
        "\n",
        "11 SeaLevelPressureHighInches-\n",
        "\n",
        "\n",
        "High sea level pressure, in inches of mercury\n",
        "\n",
        "\n",
        "12 SeaLevelPressureAvgInches-\n",
        "\n",
        "\n",
        "Average sea level pressure, in inches of mercury\n",
        "\n",
        "\n",
        "13 SeaLevelPressureLowInches-\n",
        "\n",
        "\n",
        "Low sea level pressure, in inches of mercury\n",
        "\n",
        "\n",
        "14 VisibilityHighMiles-\n",
        "\n",
        "\n",
        "High visibility, in miles\n",
        "\n",
        "\n",
        "15 VisibilityAvgMiles-\n",
        "\n",
        "\n",
        "Average visibility, in miles\n",
        "\n",
        "\n",
        "16 VisibilityLowMiles-\n",
        "\n",
        "\n",
        "Low visibility, in miles\n",
        "\n",
        "\n",
        "17 WindHighMPH-\n",
        "\n",
        "\n",
        "High wind speed, in miles per hour\n",
        "\n",
        "\n",
        "18 WindAvgMPH-\n",
        "\n",
        "\n",
        "Average wind speed, in miles per hour\n",
        "\n",
        "\n",
        "19 WindGustMPH-\n",
        "\n",
        "\n",
        "Highest wind speed gust, in miles per hour\n",
        "\n",
        "\n",
        "20 PrecipitationSumInches-\n",
        "\n",
        "\n",
        "Total precipitation, in inches ('T' if trace)\n",
        "\n",
        "\n",
        "20 Events-\n",
        "\n",
        "\n",
        "Adverse weather events (' ' if None)\n",
        "\n",
        "\n",
        "\n",
        "\n",
        "\n"
      ]
    },
    {
      "cell_type": "code",
      "metadata": {
        "id": "zaojTvXn1PA0"
      },
      "source": [
        "# importing libraries \n",
        "import pandas as pd \n",
        "import numpy as np \n",
        "import matplotlib.pyplot as plt \n",
        "import sklearn as sk \n",
        "from sklearn.linear_model import LinearRegression \n",
        "from sklearn.metrics import mean_squared_error"
      ],
      "execution_count": null,
      "outputs": []
    },
    {
      "cell_type": "markdown",
      "metadata": {
        "id": "Ng5Z2mPA5s8G"
      },
      "source": [
        "#Data Analysis And Cleaning"
      ]
    },
    {
      "cell_type": "code",
      "metadata": {
        "id": "PdxQcKEN1f_E"
      },
      "source": [
        "data = pd.read_csv(\"/content/austin_weather.csv\")"
      ],
      "execution_count": null,
      "outputs": []
    },
    {
      "cell_type": "code",
      "metadata": {
        "id": "e96UwuIH-9Y2"
      },
      "source": [
        "df = pd.DataFrame(data)"
      ],
      "execution_count": null,
      "outputs": []
    },
    {
      "cell_type": "code",
      "metadata": {
        "colab": {
          "base_uri": "https://localhost:8080/",
          "height": 309
        },
        "id": "hPYNk-7m1fzz",
        "outputId": "28dfe6ab-7862-4521-80e8-87473406f3d2"
      },
      "source": [
        "#seeing head values\n",
        "df.head(5)"
      ],
      "execution_count": null,
      "outputs": [
        {
          "output_type": "execute_result",
          "data": {
            "text/html": [
              "<div>\n",
              "<style scoped>\n",
              "    .dataframe tbody tr th:only-of-type {\n",
              "        vertical-align: middle;\n",
              "    }\n",
              "\n",
              "    .dataframe tbody tr th {\n",
              "        vertical-align: top;\n",
              "    }\n",
              "\n",
              "    .dataframe thead th {\n",
              "        text-align: right;\n",
              "    }\n",
              "</style>\n",
              "<table border=\"1\" class=\"dataframe\">\n",
              "  <thead>\n",
              "    <tr style=\"text-align: right;\">\n",
              "      <th></th>\n",
              "      <th>Date</th>\n",
              "      <th>TempHighF</th>\n",
              "      <th>TempAvgF</th>\n",
              "      <th>TempLowF</th>\n",
              "      <th>DewPointHighF</th>\n",
              "      <th>DewPointAvgF</th>\n",
              "      <th>DewPointLowF</th>\n",
              "      <th>HumidityHighPercent</th>\n",
              "      <th>HumidityAvgPercent</th>\n",
              "      <th>HumidityLowPercent</th>\n",
              "      <th>SeaLevelPressureHighInches</th>\n",
              "      <th>SeaLevelPressureAvgInches</th>\n",
              "      <th>SeaLevelPressureLowInches</th>\n",
              "      <th>VisibilityHighMiles</th>\n",
              "      <th>VisibilityAvgMiles</th>\n",
              "      <th>VisibilityLowMiles</th>\n",
              "      <th>WindHighMPH</th>\n",
              "      <th>WindAvgMPH</th>\n",
              "      <th>WindGustMPH</th>\n",
              "      <th>PrecipitationSumInches</th>\n",
              "      <th>Events</th>\n",
              "    </tr>\n",
              "  </thead>\n",
              "  <tbody>\n",
              "    <tr>\n",
              "      <th>0</th>\n",
              "      <td>2013-12-21</td>\n",
              "      <td>74</td>\n",
              "      <td>60</td>\n",
              "      <td>45</td>\n",
              "      <td>67</td>\n",
              "      <td>49</td>\n",
              "      <td>43</td>\n",
              "      <td>93</td>\n",
              "      <td>75</td>\n",
              "      <td>57</td>\n",
              "      <td>29.86</td>\n",
              "      <td>29.68</td>\n",
              "      <td>29.59</td>\n",
              "      <td>10</td>\n",
              "      <td>7</td>\n",
              "      <td>2</td>\n",
              "      <td>20</td>\n",
              "      <td>4</td>\n",
              "      <td>31</td>\n",
              "      <td>0.46</td>\n",
              "      <td>Rain , Thunderstorm</td>\n",
              "    </tr>\n",
              "    <tr>\n",
              "      <th>1</th>\n",
              "      <td>2013-12-22</td>\n",
              "      <td>56</td>\n",
              "      <td>48</td>\n",
              "      <td>39</td>\n",
              "      <td>43</td>\n",
              "      <td>36</td>\n",
              "      <td>28</td>\n",
              "      <td>93</td>\n",
              "      <td>68</td>\n",
              "      <td>43</td>\n",
              "      <td>30.41</td>\n",
              "      <td>30.13</td>\n",
              "      <td>29.87</td>\n",
              "      <td>10</td>\n",
              "      <td>10</td>\n",
              "      <td>5</td>\n",
              "      <td>16</td>\n",
              "      <td>6</td>\n",
              "      <td>25</td>\n",
              "      <td>0</td>\n",
              "      <td></td>\n",
              "    </tr>\n",
              "    <tr>\n",
              "      <th>2</th>\n",
              "      <td>2013-12-23</td>\n",
              "      <td>58</td>\n",
              "      <td>45</td>\n",
              "      <td>32</td>\n",
              "      <td>31</td>\n",
              "      <td>27</td>\n",
              "      <td>23</td>\n",
              "      <td>76</td>\n",
              "      <td>52</td>\n",
              "      <td>27</td>\n",
              "      <td>30.56</td>\n",
              "      <td>30.49</td>\n",
              "      <td>30.41</td>\n",
              "      <td>10</td>\n",
              "      <td>10</td>\n",
              "      <td>10</td>\n",
              "      <td>8</td>\n",
              "      <td>3</td>\n",
              "      <td>12</td>\n",
              "      <td>0</td>\n",
              "      <td></td>\n",
              "    </tr>\n",
              "    <tr>\n",
              "      <th>3</th>\n",
              "      <td>2013-12-24</td>\n",
              "      <td>61</td>\n",
              "      <td>46</td>\n",
              "      <td>31</td>\n",
              "      <td>36</td>\n",
              "      <td>28</td>\n",
              "      <td>21</td>\n",
              "      <td>89</td>\n",
              "      <td>56</td>\n",
              "      <td>22</td>\n",
              "      <td>30.56</td>\n",
              "      <td>30.45</td>\n",
              "      <td>30.3</td>\n",
              "      <td>10</td>\n",
              "      <td>10</td>\n",
              "      <td>7</td>\n",
              "      <td>12</td>\n",
              "      <td>4</td>\n",
              "      <td>20</td>\n",
              "      <td>0</td>\n",
              "      <td></td>\n",
              "    </tr>\n",
              "    <tr>\n",
              "      <th>4</th>\n",
              "      <td>2013-12-25</td>\n",
              "      <td>58</td>\n",
              "      <td>50</td>\n",
              "      <td>41</td>\n",
              "      <td>44</td>\n",
              "      <td>40</td>\n",
              "      <td>36</td>\n",
              "      <td>86</td>\n",
              "      <td>71</td>\n",
              "      <td>56</td>\n",
              "      <td>30.41</td>\n",
              "      <td>30.33</td>\n",
              "      <td>30.27</td>\n",
              "      <td>10</td>\n",
              "      <td>10</td>\n",
              "      <td>7</td>\n",
              "      <td>10</td>\n",
              "      <td>2</td>\n",
              "      <td>16</td>\n",
              "      <td>T</td>\n",
              "      <td></td>\n",
              "    </tr>\n",
              "  </tbody>\n",
              "</table>\n",
              "</div>"
            ],
            "text/plain": [
              "         Date  TempHighF  ...  PrecipitationSumInches               Events\n",
              "0  2013-12-21         74  ...                    0.46  Rain , Thunderstorm\n",
              "1  2013-12-22         56  ...                       0                     \n",
              "2  2013-12-23         58  ...                       0                     \n",
              "3  2013-12-24         61  ...                       0                     \n",
              "4  2013-12-25         58  ...                       T                     \n",
              "\n",
              "[5 rows x 21 columns]"
            ]
          },
          "metadata": {
            "tags": []
          },
          "execution_count": 54
        }
      ]
    },
    {
      "cell_type": "code",
      "metadata": {
        "colab": {
          "base_uri": "https://localhost:8080/"
        },
        "id": "ItrSzpHZ6LBi",
        "outputId": "a0377b48-43eb-4261-c620-adf954a45db6"
      },
      "source": [
        "#shape of the dataset\n",
        "df.shape"
      ],
      "execution_count": null,
      "outputs": [
        {
          "output_type": "execute_result",
          "data": {
            "text/plain": [
              "(1319, 21)"
            ]
          },
          "metadata": {
            "tags": []
          },
          "execution_count": 37
        }
      ]
    },
    {
      "cell_type": "code",
      "metadata": {
        "colab": {
          "base_uri": "https://localhost:8080/"
        },
        "id": "LnrWSKTy5b1P",
        "outputId": "747f0fde-bf98-489a-f4bf-3cbbe4349aa5"
      },
      "source": [
        "df.isnull().any()"
      ],
      "execution_count": null,
      "outputs": [
        {
          "output_type": "execute_result",
          "data": {
            "text/plain": [
              "Date                          False\n",
              "TempHighF                     False\n",
              "TempAvgF                      False\n",
              "TempLowF                      False\n",
              "DewPointHighF                 False\n",
              "DewPointAvgF                  False\n",
              "DewPointLowF                  False\n",
              "HumidityHighPercent           False\n",
              "HumidityAvgPercent            False\n",
              "HumidityLowPercent            False\n",
              "SeaLevelPressureHighInches    False\n",
              "SeaLevelPressureAvgInches     False\n",
              "SeaLevelPressureLowInches     False\n",
              "VisibilityHighMiles           False\n",
              "VisibilityAvgMiles            False\n",
              "VisibilityLowMiles            False\n",
              "WindHighMPH                   False\n",
              "WindAvgMPH                    False\n",
              "WindGustMPH                   False\n",
              "PrecipitationSumInches        False\n",
              "Events                        False\n",
              "dtype: bool"
            ]
          },
          "metadata": {
            "tags": []
          },
          "execution_count": 38
        }
      ]
    },
    {
      "cell_type": "code",
      "metadata": {
        "colab": {
          "base_uri": "https://localhost:8080/"
        },
        "id": "NjzyDImWCilK",
        "outputId": "fad1bed0-3e0b-4ff9-9ab0-a698084b122a"
      },
      "source": [
        "df.isnull().any()"
      ],
      "execution_count": null,
      "outputs": [
        {
          "output_type": "execute_result",
          "data": {
            "text/plain": [
              "TempHighF                    False\n",
              "TempAvgF                     False\n",
              "TempLowF                     False\n",
              "DewPointHighF                False\n",
              "DewPointAvgF                 False\n",
              "DewPointLowF                 False\n",
              "HumidityHighPercent          False\n",
              "HumidityAvgPercent           False\n",
              "HumidityLowPercent           False\n",
              "SeaLevelPressureAvgInches    False\n",
              "VisibilityHighMiles          False\n",
              "VisibilityAvgMiles           False\n",
              "VisibilityLowMiles           False\n",
              "WindHighMPH                  False\n",
              "WindAvgMPH                   False\n",
              "WindGustMPH                  False\n",
              "PrecipitationSumInches       False\n",
              "dtype: bool"
            ]
          },
          "metadata": {
            "tags": []
          },
          "execution_count": 65
        }
      ]
    },
    {
      "cell_type": "code",
      "metadata": {
        "colab": {
          "base_uri": "https://localhost:8080/"
        },
        "id": "lx7RnqVq5oEX",
        "outputId": "4517049b-e909-4f69-ea8c-e1a78a5f8c9f"
      },
      "source": [
        "df.info()"
      ],
      "execution_count": null,
      "outputs": [
        {
          "output_type": "stream",
          "text": [
            "<class 'pandas.core.frame.DataFrame'>\n",
            "RangeIndex: 1319 entries, 0 to 1318\n",
            "Data columns (total 21 columns):\n",
            " #   Column                      Non-Null Count  Dtype \n",
            "---  ------                      --------------  ----- \n",
            " 0   Date                        1319 non-null   object\n",
            " 1   TempHighF                   1319 non-null   int64 \n",
            " 2   TempAvgF                    1319 non-null   int64 \n",
            " 3   TempLowF                    1319 non-null   int64 \n",
            " 4   DewPointHighF               1319 non-null   object\n",
            " 5   DewPointAvgF                1319 non-null   object\n",
            " 6   DewPointLowF                1319 non-null   object\n",
            " 7   HumidityHighPercent         1319 non-null   object\n",
            " 8   HumidityAvgPercent          1319 non-null   object\n",
            " 9   HumidityLowPercent          1319 non-null   object\n",
            " 10  SeaLevelPressureHighInches  1319 non-null   object\n",
            " 11  SeaLevelPressureAvgInches   1319 non-null   object\n",
            " 12  SeaLevelPressureLowInches   1319 non-null   object\n",
            " 13  VisibilityHighMiles         1319 non-null   object\n",
            " 14  VisibilityAvgMiles          1319 non-null   object\n",
            " 15  VisibilityLowMiles          1319 non-null   object\n",
            " 16  WindHighMPH                 1319 non-null   object\n",
            " 17  WindAvgMPH                  1319 non-null   object\n",
            " 18  WindGustMPH                 1319 non-null   object\n",
            " 19  PrecipitationSumInches      1319 non-null   object\n",
            " 20  Events                      1319 non-null   object\n",
            "dtypes: int64(3), object(18)\n",
            "memory usage: 216.5+ KB\n"
          ],
          "name": "stdout"
        }
      ]
    },
    {
      "cell_type": "code",
      "metadata": {
        "colab": {
          "base_uri": "https://localhost:8080/"
        },
        "id": "PZQ1dpW914Ms",
        "outputId": "a60c6f94-76d5-4e37-ff8c-e5e58af73d32"
      },
      "source": [
        "#seeing shape of the dataset\n",
        "df.shape\n"
      ],
      "execution_count": null,
      "outputs": [
        {
          "output_type": "execute_result",
          "data": {
            "text/plain": [
              "(1319, 21)"
            ]
          },
          "metadata": {
            "tags": []
          },
          "execution_count": 40
        }
      ]
    },
    {
      "cell_type": "code",
      "metadata": {
        "colab": {
          "base_uri": "https://localhost:8080/"
        },
        "id": "3nIpTdpz1-Di",
        "outputId": "7540acf6-be8d-46f8-c620-351d0b05e047"
      },
      "source": [
        "df.columns"
      ],
      "execution_count": null,
      "outputs": [
        {
          "output_type": "execute_result",
          "data": {
            "text/plain": [
              "Index(['Date', 'TempHighF', 'TempAvgF', 'TempLowF', 'DewPointHighF',\n",
              "       'DewPointAvgF', 'DewPointLowF', 'HumidityHighPercent',\n",
              "       'HumidityAvgPercent', 'HumidityLowPercent',\n",
              "       'SeaLevelPressureHighInches', 'SeaLevelPressureAvgInches',\n",
              "       'SeaLevelPressureLowInches', 'VisibilityHighMiles',\n",
              "       'VisibilityAvgMiles', 'VisibilityLowMiles', 'WindHighMPH', 'WindAvgMPH',\n",
              "       'WindGustMPH', 'PrecipitationSumInches', 'Events'],\n",
              "      dtype='object')"
            ]
          },
          "metadata": {
            "tags": []
          },
          "execution_count": 41
        }
      ]
    },
    {
      "cell_type": "markdown",
      "metadata": {
        "id": "5N-D2KKS74zf"
      },
      "source": [
        "'Events', 'Date', 'SeaLevelPressureHighInches', 'SeaLevelPressureLowInches'\n",
        "unwanted columns which we will not use in prediction\n"
      ]
    },
    {
      "cell_type": "code",
      "metadata": {
        "id": "ueVLO6yJ14H2"
      },
      "source": [
        "# drop or delete the unnecessary columns in the data. \n",
        "df.drop(['Events', 'Date', 'SeaLevelPressureHighInches', 'SeaLevelPressureLowInches'], axis = 1, inplace=True)\n"
      ],
      "execution_count": null,
      "outputs": []
    },
    {
      "cell_type": "markdown",
      "metadata": {
        "id": "FI_n20aaAyoD"
      },
      "source": [
        "left with 17 columns"
      ]
    },
    {
      "cell_type": "code",
      "metadata": {
        "colab": {
          "base_uri": "https://localhost:8080/"
        },
        "id": "rST0Xm7y14FD",
        "outputId": "95184728-eb00-4eb9-b1c4-9c6705b81c49"
      },
      "source": [
        "df.shape hi"
      ],
      "execution_count": null,
      "outputs": [
        {
          "output_type": "execute_result",
          "data": {
            "text/plain": [
              "(1319, 17)"
            ]
          },
          "metadata": {
            "tags": []
          },
          "execution_count": 58
        }
      ]
    },
    {
      "cell_type": "markdown",
      "metadata": {
        "id": "IDTeJtzDFm9I"
      },
      "source": [
        "During exploration I noticed that PrecipitationSumInches colum has mysterious \"T\" values which means \"Trace\". It means that there was a trace of rain but it was not measureable."
      ]
    },
    {
      "cell_type": "code",
      "metadata": {
        "colab": {
          "base_uri": "https://localhost:8080/"
        },
        "id": "eTuNGflh14B8",
        "outputId": "e6a874f9-55d1-4e59-d7f7-ce7a0d8900be"
      },
      "source": [
        "precipitation = df[pd.to_numeric(df.PrecipitationSumInches, errors='coerce').isnull()].PrecipitationSumInches.value_counts()\n",
        "precipitation"
      ],
      "execution_count": null,
      "outputs": [
        {
          "output_type": "execute_result",
          "data": {
            "text/plain": [
              "T    124\n",
              "Name: PrecipitationSumInches, dtype: int64"
            ]
          },
          "metadata": {
            "tags": []
          },
          "execution_count": 69
        }
      ]
    },
    {
      "cell_type": "markdown",
      "metadata": {
        "id": "0Er0UAz4GHsU"
      },
      "source": [
        " we need to replace all occurrences of T with 0 \n",
        " so that we can use the data in our model \n"
      ]
    },
    {
      "cell_type": "code",
      "metadata": {
        "id": "7G6aeKeu138h"
      },
      "source": [
        " df = df.replace('T', 0.0) \n"
      ],
      "execution_count": null,
      "outputs": []
    },
    {
      "cell_type": "markdown",
      "metadata": {
        "id": "VKX5Twc8k5li"
      },
      "source": [
        ""
      ]
    },
    {
      "cell_type": "markdown",
      "metadata": {
        "id": "ix3FwgRUGMO9"
      },
      "source": [
        "the data also contains '-' which indicates no  \n",
        " or NIL. This means that data is not available \n",
        " we need to replace these values as well. "
      ]
    },
    {
      "cell_type": "code",
      "metadata": {
        "id": "1lkt0BvqGL8T"
      },
      "source": [
        "df = df.replace('-', 0.0)"
      ],
      "execution_count": null,
      "outputs": []
    },
    {
      "cell_type": "markdown",
      "metadata": {
        "id": "H3Ybq6MFHUt7"
      },
      "source": [
        "# create histogram for numeric data "
      ]
    },
    {
      "cell_type": "code",
      "metadata": {
        "colab": {
          "base_uri": "https://localhost:8080/",
          "height": 366
        },
        "id": "ES9WhFBiGL6A",
        "outputId": "628d3632-e820-4e22-ebde-c71827901306"
      },
      "source": [
        "df.hist() "
      ],
      "execution_count": null,
      "outputs": [
        {
          "output_type": "execute_result",
          "data": {
            "text/plain": [
              "array([[<matplotlib.axes._subplots.AxesSubplot object at 0x7face50e1910>,\n",
              "        <matplotlib.axes._subplots.AxesSubplot object at 0x7face5094450>],\n",
              "       [<matplotlib.axes._subplots.AxesSubplot object at 0x7face504a050>,\n",
              "        <matplotlib.axes._subplots.AxesSubplot object at 0x7face500c190>]],\n",
              "      dtype=object)"
            ]
          },
          "metadata": {
            "tags": []
          },
          "execution_count": 74
        },
        {
          "output_type": "display_data",
          "data": {
            "image/png": "[encoded data removed]",
            "text/plain": [
              "<Figure size 432x288 with 4 Axes>"
            ]
          },
          "metadata": {
            "tags": [],
            "needs_background": "light"
          }
        }
      ]
    },
    {
      "cell_type": "markdown",
      "metadata": {
        "id": "yNZ-YBg3STFI"
      },
      "source": [
        "#Model  Creation"
      ]
    },
    {
      "cell_type": "markdown",
      "metadata": {
        "id": "nxmVb0PYSepH"
      },
      "source": [
        "the features or the 'x' values of the data \n",
        "these columns are used to train the model \n",
        "the last column, i.e, precipitation column  \n",
        "will serve as the label(target)  \n"
      ]
    },
    {
      "cell_type": "code",
      "metadata": {
        "id": "6Vay3OgvS74K"
      },
      "source": [
        ""
      ],
      "execution_count": null,
      "outputs": []
    },
    {
      "cell_type": "code",
      "metadata": {
        "id": "7xPKc8oYSoJN"
      },
      "source": [
        "X = df.drop(['PrecipitationSumInches'], axis = 1) "
      ],
      "execution_count": null,
      "outputs": []
    },
    {
      "cell_type": "markdown",
      "metadata": {
        "id": "9V6GYLbLS6cv"
      },
      "source": [
        "the output or the label. "
      ]
    },
    {
      "cell_type": "code",
      "metadata": {
        "id": "AeN345trS4-b"
      },
      "source": [
        "Y = df['PrecipitationSumInches'] "
      ],
      "execution_count": null,
      "outputs": []
    },
    {
      "cell_type": "code",
      "metadata": {
        "colab": {
          "base_uri": "https://localhost:8080/"
        },
        "id": "O1IqWpjtTitG",
        "outputId": "75846fa6-f1e5-446b-f095-5fbc2f35ead5"
      },
      "source": [
        "# reshaping it into a 2-D vector \n",
        "Y = Y.values.reshape(-1, 1) \n",
        "print(Y)\n"
      ],
      "execution_count": null,
      "outputs": [
        {
          "output_type": "stream",
          "text": [
            "[['0.46']\n",
            " ['0']\n",
            " ['0']\n",
            " ...\n",
            " ['0']\n",
            " ['0']\n",
            " ['0']]\n"
          ],
          "name": "stdout"
        }
      ]
    },
    {
      "cell_type": "markdown",
      "metadata": {
        "id": "cc1wFNeST0vq"
      },
      "source": [
        "consider a random day in the dataset \n",
        "we shall plot a graph and observe this \n",
        "day \n"
      ]
    },
    {
      "cell_type": "code",
      "metadata": {
        "id": "9V5mRegzT8Lk"
      },
      "source": [
        "day_index = 798\n",
        "days = [i for i in range(Y.size)] \n"
      ],
      "execution_count": null,
      "outputs": []
    },
    {
      "cell_type": "markdown",
      "metadata": {
        "id": "3jVLIpnLUZPQ"
      },
      "source": [
        "#Fitting Data"
      ]
    },
    {
      "cell_type": "code",
      "metadata": {
        "colab": {
          "base_uri": "https://localhost:8080/"
        },
        "id": "_8G-E_B_UXja",
        "outputId": "987d95e3-8c23-4a58-b381-838f7ff878c0"
      },
      "source": [
        "# initialize a linear regression classifier \n",
        "clf = LinearRegression() \n",
        "# train the classifier with our  \n",
        "# input data. \n",
        "clf.fit(X, Y) \n"
      ],
      "execution_count": null,
      "outputs": [
        {
          "output_type": "execute_result",
          "data": {
            "text/plain": [
              "LinearRegression(copy_X=True, fit_intercept=True, n_jobs=None, normalize=False)"
            ]
          },
          "metadata": {
            "tags": []
          },
          "execution_count": 89
        }
      ]
    },
    {
      "cell_type": "markdown",
      "metadata": {
        "id": "_ikSOjT0UlBM"
      },
      "source": [
        "#giving sample data"
      ]
    },
    {
      "cell_type": "code",
      "metadata": {
        "colab": {
          "base_uri": "https://localhost:8080/"
        },
        "id": "QHeN-8t8WI-4",
        "outputId": "1e86f02b-ab25-4f1f-e099-d74efc36e599"
      },
      "source": [
        "X.columns"
      ],
      "execution_count": null,
      "outputs": [
        {
          "output_type": "execute_result",
          "data": {
            "text/plain": [
              "Index(['TempHighF', 'TempAvgF', 'TempLowF', 'DewPointHighF', 'DewPointAvgF',\n",
              "       'DewPointLowF', 'HumidityHighPercent', 'HumidityAvgPercent',\n",
              "       'HumidityLowPercent', 'SeaLevelPressureAvgInches',\n",
              "       'VisibilityHighMiles', 'VisibilityAvgMiles', 'VisibilityLowMiles',\n",
              "       'WindHighMPH', 'WindAvgMPH', 'WindGustMPH'],\n",
              "      dtype='object')"
            ]
          },
          "metadata": {
            "tags": []
          },
          "execution_count": 115
        }
      ]
    },
    {
      "cell_type": "code",
      "metadata": {
        "id": "m3BFVkh7UkQn"
      },
      "source": [
        "# give a sample input to test our model \n",
        "# this is a 2-D vector that contains values \n",
        "# for each column in the dataset. \n",
        "inp = np.array([[60], [50], [40], [50], [49], [40], [42], [41], \n",
        "                [40], [29.68], [4], [2], [1], [40], [25], [50]]) \n",
        "inp = inp.reshape(1, -1)\n",
        "\n"
      ],
      "execution_count": null,
      "outputs": []
    },
    {
      "cell_type": "code",
      "metadata": {
        "colab": {
          "base_uri": "https://localhost:8080/"
        },
        "id": "ONt7BFW7Urd1",
        "outputId": "27574b4d-fbd7-4f3f-8950-ebb4bec9b86d"
      },
      "source": [
        "predicted=clf.predict(inp)  \n",
        "print(predicted)\n",
        " \n"
      ],
      "execution_count": null,
      "outputs": [
        {
          "output_type": "stream",
          "text": [
            "[[0.45571283]]\n"
          ],
          "name": "stdout"
        }
      ]
    },
    {
      "cell_type": "markdown",
      "metadata": {
        "id": "Lt8gAGyaGLV-"
      },
      "source": [
        ""
      ]
    }
  ]
}